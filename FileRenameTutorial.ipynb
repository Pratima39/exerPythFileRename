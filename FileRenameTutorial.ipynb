{
 "cells": [
  {
   "cell_type": "code",
   "execution_count": 1,
   "metadata": {},
   "outputs": [],
   "source": [
    "import os\n"
   ]
  },
  {
   "cell_type": "code",
   "execution_count": 2,
   "metadata": {
    "tags": []
   },
   "outputs": [
    {
     "output_type": "stream",
     "name": "stdout",
     "text": "FileRenameTutorial.ipynb\nREADME.md\n"
    }
   ],
   "source": [
    "for f in os.listdir():\n",
    "    print(f)\n",
    "    "
   ]
  },
  {
   "cell_type": "code",
   "execution_count": 21,
   "metadata": {
    "tags": []
   },
   "outputs": [
    {
     "output_type": "stream",
     "name": "stdout",
     "text": "c:\\Users\\binod\\Desktop\\Nani\\2020_Class Fall_Grad\\BMI_6017\\exerPythFileRename\n"
    }
   ],
   "source": [
    "print(os.getcwd())"
   ]
  },
  {
   "cell_type": "code",
   "execution_count": 132,
   "metadata": {
    "tags": []
   },
   "outputs": [
    {
     "output_type": "stream",
     "name": "stdout",
     "text": "01-The Sun.txt\n02-Mercury.txt\n03-Venus.txt\n05-Mars.txt\n06-Jupiter.txt\n07-Saturn.txt\n08-Neptune.txt\n09-Uranus.txt\n10-Pluto.txt\nEarth - Our solar system - #4.txt\n"
    }
   ],
   "source": [
    "for f in os.listdir():\n",
    "    print(f)\n"
   ]
  },
  {
   "cell_type": "code",
   "execution_count": 133,
   "metadata": {
    "tags": []
   },
   "outputs": [
    {
     "output_type": "stream",
     "name": "stdout",
     "text": "('01-The Sun', '.txt')\n('02-Mercury', '.txt')\n('03-Venus', '.txt')\n('05-Mars', '.txt')\n('06-Jupiter', '.txt')\n('07-Saturn', '.txt')\n('08-Neptune', '.txt')\n('09-Uranus', '.txt')\n('10-Pluto', '.txt')\n('Earth - Our solar system - #4', '.txt')\n"
    }
   ],
   "source": [
    "## Split extension from file if any .txt files are available##\n",
    "for f in os.listdir():\n",
    "    print(os.path.splitext(f))"
   ]
  },
  {
   "cell_type": "code",
   "execution_count": 134,
   "metadata": {
    "tags": []
   },
   "outputs": [
    {
     "output_type": "stream",
     "name": "stdout",
     "text": "01-The Sun\n02-Mercury\n03-Venus\n05-Mars\n06-Jupiter\n07-Saturn\n08-Neptune\n09-Uranus\n10-Pluto\nEarth - Our solar system - #4\n"
    }
   ],
   "source": [
    "##Step to remove the .txt portion of file name by only picking file_name portion##\n",
    "for f in os.listdir():\n",
    "    file_name,file_ext = os.path.splitext(f)\n",
    "    print(file_name)"
   ]
  },
  {
   "cell_type": "code",
   "execution_count": 135,
   "metadata": {
    "tags": []
   },
   "outputs": [
    {
     "output_type": "stream",
     "name": "stdout",
     "text": "['01', 'The Sun']\n['02', 'Mercury']\n['03', 'Venus']\n['05', 'Mars']\n['06', 'Jupiter']\n['07', 'Saturn']\n['08', 'Neptune']\n['09', 'Uranus']\n['10', 'Pluto']\n['Earth ', ' Our solar system ', ' #4']\n"
    }
   ],
   "source": [
    "## Spliting every records where we had-##\n",
    "for f in os.listdir():\n",
    "    f_name,file_ext = os.path.splitext(f)\n",
    "    print(f_name.split('-'))"
   ]
  },
  {
   "cell_type": "code",
   "execution_count": 136,
   "metadata": {
    "tags": []
   },
   "outputs": [
    {
     "output_type": "stream",
     "name": "stdout",
     "text": "#4\n #4\n #4\n #4\n #4\n #4\n #4\n #4\n #4\n #4\n"
    }
   ],
   "source": [
    "for f in os.listdir():\n",
    "    f_name,f_ext = os.path.splitext(f)\n",
    "    f_title, f_course ,f_num = file_name.split('-')\n",
    "    print(f_num)"
   ]
  },
  {
   "cell_type": "code",
   "execution_count": 137,
   "metadata": {
    "tags": []
   },
   "outputs": [
    {
     "output_type": "stream",
     "name": "stdout",
     "text": "['01', 'The Sun']\n['02', 'Mercury']\n['03', 'Venus']\n['05', 'Mars']\n['06', 'Jupiter']\n['07', 'Saturn']\n['08', 'Neptune']\n['09', 'Uranus']\n['10', 'Pluto']\n['Earth ', ' Our solar system ', ' #4']\n"
    }
   ],
   "source": [
    "for f in os.listdir():\n",
    "    file_name,file_ext = os.path.splitext(f)\n",
    "    f_course = file_name.split('-')\n",
    "    print(f_course)"
   ]
  },
  {
   "cell_type": "code",
   "execution_count": 138,
   "metadata": {
    "tags": []
   },
   "outputs": [
    {
     "output_type": "stream",
     "name": "stdout",
     "text": "['01', 'The Sun']\n['02', 'Mercury']\n['03', 'Venus']\n['05', 'Mars']\n['06', 'Jupiter']\n['07', 'Saturn']\n['08', 'Neptune']\n['09', 'Uranus']\n['10', 'Pluto']\n['Earth ', ' Our solar system ', ' #4']\n"
    }
   ],
   "source": [
    "for f in os.listdir():\n",
    "    file_name,file_ext = os.path.splitext(f)\n",
    "    f_num = file_name.split('-')\n",
    "    print(f_num)"
   ]
  },
  {
   "cell_type": "code",
   "execution_count": 139,
   "metadata": {
    "tags": []
   },
   "outputs": [
    {
     "output_type": "stream",
     "name": "stdout",
     "text": "#4- Our solar system -Earth .txt\n #4- Our solar system -Earth .txt\n #4- Our solar system -Earth .txt\n #4- Our solar system -Earth .txt\n #4- Our solar system -Earth .txt\n #4- Our solar system -Earth .txt\n #4- Our solar system -Earth .txt\n #4- Our solar system -Earth .txt\n #4- Our solar system -Earth .txt\n #4- Our solar system -Earth .txt\n"
    }
   ],
   "source": [
    "for f in os.listdir():\n",
    "    f_name, f_ext = os.path.splitext(f)\n",
    "    f_title, f_course, f_num = file_name.split('-')\n",
    "    print('{}-{}-{}{}'.format(f_num, f_course, f_title, f_ext))"
   ]
  },
  {
   "cell_type": "code",
   "execution_count": 140,
   "metadata": {
    "tags": []
   },
   "outputs": [
    {
     "output_type": "stream",
     "name": "stdout",
     "text": "#4-Our solar system-Earth.txt\n"
    }
   ],
   "source": [
    "for f in os.listdir():\n",
    "    f_name, f_ext = os.path.splitext(f)\n",
    "    f_title, f_course, f_num = file_name.split('-')\n",
    "\n",
    "f_title = f_title.strip()\n",
    "f_course = f_course.strip()\n",
    "f_num = f_num.strip()\n",
    "print('{}-{}-{}{}'.format(f_num, f_course, f_title, f_ext))"
   ]
  },
  {
   "cell_type": "code",
   "execution_count": 141,
   "metadata": {
    "tags": []
   },
   "outputs": [
    {
     "output_type": "stream",
     "name": "stdout",
     "text": "4-Our solar system-Earth.txt\n"
    }
   ],
   "source": [
    "for f in os.listdir():\n",
    "    f_name, f_ext = os.path.splitext(f)\n",
    "    f_title, f_course, f_num = file_name.split('-')\n",
    "\n",
    "f_title = f_title.strip()\n",
    "f_course = f_course.strip()\n",
    "f_num = f_num.strip()[1:]\n",
    "\n",
    "print('{}-{}-{}{}'.format(f_num, f_course, f_title, f_ext))"
   ]
  },
  {
   "cell_type": "code",
   "execution_count": 142,
   "metadata": {
    "tags": []
   },
   "outputs": [
    {
     "output_type": "stream",
     "name": "stdout",
     "text": "04-Our solar system-Earth.txt\n"
    }
   ],
   "source": [
    "for f in os.listdir():\n",
    "    f_name, f_ext = os.path.splitext(f)\n",
    "    f_title, f_course, f_num = file_name.split('-')\n",
    "\n",
    "f_title = f_title.strip()\n",
    "f_course = f_course.strip()\n",
    "f_num = f_num.strip()[1:].zfill(2)\n",
    "\n",
    "print('{}-{}-{}{}'.format(f_num, f_course, f_title, f_ext))"
   ]
  },
  {
   "cell_type": "code",
   "execution_count": 143,
   "metadata": {
    "tags": []
   },
   "outputs": [
    {
     "output_type": "stream",
     "name": "stdout",
     "text": "04-Earth.txt\n"
    }
   ],
   "source": [
    "for f in os.listdir():\n",
    "    f_name, f_ext = os.path.splitext(f)\n",
    "    f_title, f_course, f_num = file_name.split('-')\n",
    "\n",
    "f_title = f_title.strip()\n",
    "f_course = f_course.strip()\n",
    "f_num = f_num.strip()[1:].zfill(2)\n",
    "\n",
    "print('{}-{}{}'.format(f_num, f_title, f_ext))"
   ]
  },
  {
   "cell_type": "code",
   "execution_count": 144,
   "metadata": {},
   "outputs": [],
   "source": [
    "for f in os.listdir():\n",
    "    f_name, f_ext = os.path.splitext(f)\n",
    "    f_title, f_course, f_num = file_name.split('-')\n",
    "\n",
    "f_title = f_title.strip()\n",
    "f_course = f_course.strip()\n",
    "f_num = f_num.strip()[1:].zfill(2)\n",
    "\n",
    "new_name = '{}-{}{}'.format(f_num, f_title, f_ext)\n",
    "\n",
    "os.rename(f, new_name)"
   ]
  },
  {
   "cell_type": "code",
   "execution_count": null,
   "metadata": {},
   "outputs": [],
   "source": []
  }
 ],
 "metadata": {
  "kernelspec": {
   "display_name": "Python 3",
   "language": "python",
   "name": "python3"
  },
  "language_info": {
   "codemirror_mode": {
    "name": "ipython",
    "version": 3
   },
   "file_extension": ".py",
   "mimetype": "text/x-python",
   "name": "python",
   "nbconvert_exporter": "python",
   "pygments_lexer": "ipython3",
   "version": "3.7.4-final"
  }
 },
 "nbformat": 4,
 "nbformat_minor": 2
}